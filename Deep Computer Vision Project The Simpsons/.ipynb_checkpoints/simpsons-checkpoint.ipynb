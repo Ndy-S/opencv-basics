{
 "cells": [
  {
   "cell_type": "code",
   "execution_count": 1,
   "metadata": {
    "ExecuteTime": {
     "end_time": "2023-07-03T12:42:22.873210600Z",
     "start_time": "2023-07-03T12:42:09.771223800Z"
    }
   },
   "outputs": [
    {
     "name": "stdout",
     "output_type": "stream",
     "text": [
      "Requirement already satisfied: caer in c:\\users\\hendy\\appdata\\roaming\\python\\python311\\site-packages (2.0.8)\n",
      "Requirement already satisfied: canaro in c:\\storage\\programming\\general practice\\machine learning\\opencv\\venv\\lib\\site-packages (1.1.0)\n",
      "Requirement already satisfied: mypy in c:\\users\\hendy\\appdata\\roaming\\python\\python311\\site-packages (from caer) (1.3.0)\n",
      "Requirement already satisfied: numpy in c:\\users\\hendy\\appdata\\roaming\\python\\python311\\site-packages (from caer) (1.23.5)\n",
      "Requirement already satisfied: opencv-contrib-python in c:\\users\\hendy\\appdata\\roaming\\python\\python311\\site-packages (from caer) (4.7.0.72)\n",
      "Requirement already satisfied: typing-extensions in c:\\users\\hendy\\appdata\\roaming\\python\\python311\\site-packages (from caer) (4.6.3)\n",
      "Requirement already satisfied: tensorflow in c:\\users\\hendy\\appdata\\roaming\\python\\python311\\site-packages (from canaro) (2.12.0)\n",
      "Requirement already satisfied: mypy-extensions>=1.0.0 in c:\\users\\hendy\\appdata\\roaming\\python\\python311\\site-packages (from mypy->caer) (1.0.0)\n",
      "Requirement already satisfied: tensorflow-intel==2.12.0 in c:\\users\\hendy\\appdata\\roaming\\python\\python311\\site-packages (from tensorflow->canaro) (2.12.0)\n",
      "Requirement already satisfied: absl-py>=1.0.0 in c:\\users\\hendy\\appdata\\roaming\\python\\python311\\site-packages (from tensorflow-intel==2.12.0->tensorflow->canaro) (1.4.0)\n",
      "Requirement already satisfied: astunparse>=1.6.0 in c:\\users\\hendy\\appdata\\roaming\\python\\python311\\site-packages (from tensorflow-intel==2.12.0->tensorflow->canaro) (1.6.3)\n",
      "Requirement already satisfied: flatbuffers>=2.0 in c:\\users\\hendy\\appdata\\roaming\\python\\python311\\site-packages (from tensorflow-intel==2.12.0->tensorflow->canaro) (23.5.26)\n",
      "Requirement already satisfied: gast<=0.4.0,>=0.2.1 in c:\\users\\hendy\\appdata\\roaming\\python\\python311\\site-packages (from tensorflow-intel==2.12.0->tensorflow->canaro) (0.4.0)\n",
      "Requirement already satisfied: google-pasta>=0.1.1 in c:\\users\\hendy\\appdata\\roaming\\python\\python311\\site-packages (from tensorflow-intel==2.12.0->tensorflow->canaro) (0.2.0)\n",
      "Requirement already satisfied: h5py>=2.9.0 in c:\\users\\hendy\\appdata\\roaming\\python\\python311\\site-packages (from tensorflow-intel==2.12.0->tensorflow->canaro) (3.8.0)\n",
      "Requirement already satisfied: jax>=0.3.15 in c:\\users\\hendy\\appdata\\roaming\\python\\python311\\site-packages (from tensorflow-intel==2.12.0->tensorflow->canaro) (0.4.11)\n",
      "Requirement already satisfied: libclang>=13.0.0 in c:\\users\\hendy\\appdata\\roaming\\python\\python311\\site-packages (from tensorflow-intel==2.12.0->tensorflow->canaro) (16.0.0)\n",
      "Requirement already satisfied: opt-einsum>=2.3.2 in c:\\users\\hendy\\appdata\\roaming\\python\\python311\\site-packages (from tensorflow-intel==2.12.0->tensorflow->canaro) (3.3.0)\n",
      "Requirement already satisfied: packaging in c:\\users\\hendy\\appdata\\roaming\\python\\python311\\site-packages (from tensorflow-intel==2.12.0->tensorflow->canaro) (23.1)\n",
      "Requirement already satisfied: protobuf!=4.21.0,!=4.21.1,!=4.21.2,!=4.21.3,!=4.21.4,!=4.21.5,<5.0.0dev,>=3.20.3 in c:\\users\\hendy\\appdata\\roaming\\python\\python311\\site-packages (from tensorflow-intel==2.12.0->tensorflow->canaro) (4.23.2)\n",
      "Requirement already satisfied: setuptools in c:\\storage\\programming\\general practice\\machine learning\\opencv\\venv\\lib\\site-packages (from tensorflow-intel==2.12.0->tensorflow->canaro) (65.5.1)\n",
      "Requirement already satisfied: six>=1.12.0 in c:\\users\\hendy\\appdata\\roaming\\python\\python311\\site-packages (from tensorflow-intel==2.12.0->tensorflow->canaro) (1.16.0)\n",
      "Requirement already satisfied: termcolor>=1.1.0 in c:\\users\\hendy\\appdata\\roaming\\python\\python311\\site-packages (from tensorflow-intel==2.12.0->tensorflow->canaro) (2.3.0)\n",
      "Requirement already satisfied: wrapt<1.15,>=1.11.0 in c:\\users\\hendy\\appdata\\roaming\\python\\python311\\site-packages (from tensorflow-intel==2.12.0->tensorflow->canaro) (1.14.1)\n",
      "Requirement already satisfied: grpcio<2.0,>=1.24.3 in c:\\users\\hendy\\appdata\\roaming\\python\\python311\\site-packages (from tensorflow-intel==2.12.0->tensorflow->canaro) (1.54.2)\n",
      "Requirement already satisfied: tensorboard<2.13,>=2.12 in c:\\users\\hendy\\appdata\\roaming\\python\\python311\\site-packages (from tensorflow-intel==2.12.0->tensorflow->canaro) (2.12.3)\n",
      "Requirement already satisfied: tensorflow-estimator<2.13,>=2.12.0 in c:\\users\\hendy\\appdata\\roaming\\python\\python311\\site-packages (from tensorflow-intel==2.12.0->tensorflow->canaro) (2.12.0)\n",
      "Requirement already satisfied: keras<2.13,>=2.12.0 in c:\\users\\hendy\\appdata\\roaming\\python\\python311\\site-packages (from tensorflow-intel==2.12.0->tensorflow->canaro) (2.12.0)\n",
      "Requirement already satisfied: tensorflow-io-gcs-filesystem>=0.23.1 in c:\\users\\hendy\\appdata\\roaming\\python\\python311\\site-packages (from tensorflow-intel==2.12.0->tensorflow->canaro) (0.31.0)\n",
      "Requirement already satisfied: wheel<1.0,>=0.23.0 in c:\\storage\\programming\\general practice\\machine learning\\opencv\\venv\\lib\\site-packages (from astunparse>=1.6.0->tensorflow-intel==2.12.0->tensorflow->canaro) (0.38.4)\n",
      "Requirement already satisfied: ml-dtypes>=0.1.0 in c:\\users\\hendy\\appdata\\roaming\\python\\python311\\site-packages (from jax>=0.3.15->tensorflow-intel==2.12.0->tensorflow->canaro) (0.2.0)\n",
      "Requirement already satisfied: scipy>=1.7 in c:\\users\\hendy\\appdata\\roaming\\python\\python311\\site-packages (from jax>=0.3.15->tensorflow-intel==2.12.0->tensorflow->canaro) (1.10.1)\n",
      "Requirement already satisfied: google-auth<3,>=1.6.3 in c:\\users\\hendy\\appdata\\roaming\\python\\python311\\site-packages (from tensorboard<2.13,>=2.12->tensorflow-intel==2.12.0->tensorflow->canaro) (2.19.1)\n",
      "Requirement already satisfied: google-auth-oauthlib<1.1,>=0.5 in c:\\users\\hendy\\appdata\\roaming\\python\\python311\\site-packages (from tensorboard<2.13,>=2.12->tensorflow-intel==2.12.0->tensorflow->canaro) (1.0.0)\n",
      "Requirement already satisfied: markdown>=2.6.8 in c:\\users\\hendy\\appdata\\roaming\\python\\python311\\site-packages (from tensorboard<2.13,>=2.12->tensorflow-intel==2.12.0->tensorflow->canaro) (3.4.3)\n",
      "Requirement already satisfied: requests<3,>=2.21.0 in c:\\users\\hendy\\appdata\\roaming\\python\\python311\\site-packages (from tensorboard<2.13,>=2.12->tensorflow-intel==2.12.0->tensorflow->canaro) (2.31.0)\n",
      "Requirement already satisfied: tensorboard-data-server<0.8.0,>=0.7.0 in c:\\users\\hendy\\appdata\\roaming\\python\\python311\\site-packages (from tensorboard<2.13,>=2.12->tensorflow-intel==2.12.0->tensorflow->canaro) (0.7.0)\n",
      "Requirement already satisfied: werkzeug>=1.0.1 in c:\\users\\hendy\\appdata\\roaming\\python\\python311\\site-packages (from tensorboard<2.13,>=2.12->tensorflow-intel==2.12.0->tensorflow->canaro) (2.3.5)\n",
      "Requirement already satisfied: cachetools<6.0,>=2.0.0 in c:\\users\\hendy\\appdata\\roaming\\python\\python311\\site-packages (from google-auth<3,>=1.6.3->tensorboard<2.13,>=2.12->tensorflow-intel==2.12.0->tensorflow->canaro) (5.3.1)\n",
      "Requirement already satisfied: pyasn1-modules>=0.2.1 in c:\\users\\hendy\\appdata\\roaming\\python\\python311\\site-packages (from google-auth<3,>=1.6.3->tensorboard<2.13,>=2.12->tensorflow-intel==2.12.0->tensorflow->canaro) (0.3.0)\n",
      "Requirement already satisfied: rsa<5,>=3.1.4 in c:\\users\\hendy\\appdata\\roaming\\python\\python311\\site-packages (from google-auth<3,>=1.6.3->tensorboard<2.13,>=2.12->tensorflow-intel==2.12.0->tensorflow->canaro) (4.9)\n",
      "Requirement already satisfied: urllib3<2.0 in c:\\users\\hendy\\appdata\\roaming\\python\\python311\\site-packages (from google-auth<3,>=1.6.3->tensorboard<2.13,>=2.12->tensorflow-intel==2.12.0->tensorflow->canaro) (1.26.16)\n",
      "Requirement already satisfied: requests-oauthlib>=0.7.0 in c:\\users\\hendy\\appdata\\roaming\\python\\python311\\site-packages (from google-auth-oauthlib<1.1,>=0.5->tensorboard<2.13,>=2.12->tensorflow-intel==2.12.0->tensorflow->canaro) (1.3.1)\n",
      "Requirement already satisfied: charset-normalizer<4,>=2 in c:\\users\\hendy\\appdata\\roaming\\python\\python311\\site-packages (from requests<3,>=2.21.0->tensorboard<2.13,>=2.12->tensorflow-intel==2.12.0->tensorflow->canaro) (3.1.0)\n",
      "Requirement already satisfied: idna<4,>=2.5 in c:\\users\\hendy\\appdata\\roaming\\python\\python311\\site-packages (from requests<3,>=2.21.0->tensorboard<2.13,>=2.12->tensorflow-intel==2.12.0->tensorflow->canaro) (3.4)\n",
      "Requirement already satisfied: certifi>=2017.4.17 in c:\\users\\hendy\\appdata\\roaming\\python\\python311\\site-packages (from requests<3,>=2.21.0->tensorboard<2.13,>=2.12->tensorflow-intel==2.12.0->tensorflow->canaro) (2023.5.7)\n",
      "Requirement already satisfied: MarkupSafe>=2.1.1 in c:\\users\\hendy\\appdata\\roaming\\python\\python311\\site-packages (from werkzeug>=1.0.1->tensorboard<2.13,>=2.12->tensorflow-intel==2.12.0->tensorflow->canaro) (2.1.3)\n",
      "Requirement already satisfied: pyasn1<0.6.0,>=0.4.6 in c:\\users\\hendy\\appdata\\roaming\\python\\python311\\site-packages (from pyasn1-modules>=0.2.1->google-auth<3,>=1.6.3->tensorboard<2.13,>=2.12->tensorflow-intel==2.12.0->tensorflow->canaro) (0.5.0)\n",
      "Requirement already satisfied: oauthlib>=3.0.0 in c:\\users\\hendy\\appdata\\roaming\\python\\python311\\site-packages (from requests-oauthlib>=0.7.0->google-auth-oauthlib<1.1,>=0.5->tensorboard<2.13,>=2.12->tensorflow-intel==2.12.0->tensorflow->canaro) (3.2.2)\n"
     ]
    },
    {
     "name": "stderr",
     "output_type": "stream",
     "text": [
      "\n",
      "[notice] A new release of pip available: 22.3.1 -> 23.1.2\n",
      "[notice] To update, run: python.exe -m pip install --upgrade pip\n"
     ]
    }
   ],
   "source": [
    "!pip install caer canaro"
   ]
  },
  {
   "cell_type": "code",
   "execution_count": 6,
   "metadata": {},
   "outputs": [
    {
     "name": "stdout",
     "output_type": "stream",
     "text": [
      "Package                      Version\n",
      "---------------------------- ---------\n",
      "absl-py                      1.4.0\n",
      "anyio                        3.7.0\n",
      "argon2-cffi                  21.3.0\n",
      "argon2-cffi-bindings         21.2.0\n",
      "arrow                        1.2.3\n",
      "asttokens                    2.2.1\n",
      "astunparse                   1.6.3\n",
      "attrs                        23.1.0\n",
      "backcall                     0.2.0\n",
      "beautifulsoup4               4.12.2\n",
      "bleach                       6.0.0\n",
      "blinker                      1.6.2\n",
      "CacheControl                 0.13.1\n",
      "cachetools                   5.3.1\n",
      "caer                         2.0.8\n",
      "canaro                       1.1.0\n",
      "certifi                      2023.5.7\n",
      "cffi                         1.15.1\n",
      "charset-normalizer           3.1.0\n",
      "click                        8.1.3\n",
      "colorama                     0.4.6\n",
      "comm                         0.1.3\n",
      "contourpy                    1.0.7\n",
      "cryptography                 41.0.1\n",
      "cycler                       0.11.0\n",
      "debugpy                      1.6.7\n",
      "decorator                    5.1.1\n",
      "defusedxml                   0.7.1\n",
      "emoji                        2.4.0\n",
      "et-xmlfile                   1.1.0\n",
      "executing                    1.2.0\n",
      "fastjsonschema               2.17.1\n",
      "firebase-admin               6.1.0\n",
      "Flask                        2.3.2\n",
      "flatbuffers                  23.5.26\n",
      "fonttools                    4.39.4\n",
      "fqdn                         1.5.1\n",
      "gast                         0.4.0\n",
      "google-api-core              2.11.0\n",
      "google-api-python-client     2.88.0\n",
      "google-auth                  2.19.1\n",
      "google-auth-httplib2         0.1.0\n",
      "google-auth-oauthlib         1.0.0\n",
      "google-cloud-core            2.3.2\n",
      "google-cloud-firestore       2.11.1\n",
      "google-cloud-storage         2.9.0\n",
      "google-crc32c                1.5.0\n",
      "google-pasta                 0.2.0\n",
      "google-resumable-media       2.5.0\n",
      "googleapis-common-protos     1.59.0\n",
      "grpcio                       1.54.2\n",
      "grpcio-status                1.54.2\n",
      "h5py                         3.8.0\n",
      "httplib2                     0.22.0\n",
      "idna                         3.4\n",
      "ipykernel                    6.23.1\n",
      "ipython                      8.14.0\n",
      "ipython-genutils             0.2.0\n",
      "ipywidgets                   8.0.6\n",
      "isoduration                  20.11.0\n",
      "itsdangerous                 2.1.2\n",
      "jax                          0.4.11\n",
      "jedi                         0.18.2\n",
      "Jinja2                       3.1.2\n",
      "joblib                       1.2.0\n",
      "jsonpointer                  2.3\n",
      "jsonschema                   4.17.3\n",
      "jupyter                      1.0.0\n",
      "jupyter_client               8.2.0\n",
      "jupyter-console              6.6.3\n",
      "jupyter_core                 5.3.0\n",
      "jupyter-events               0.6.3\n",
      "jupyter_server               2.6.0\n",
      "jupyter_server_terminals     0.4.4\n",
      "jupyterlab-pygments          0.2.2\n",
      "jupyterlab-widgets           3.0.7\n",
      "keras                        2.12.0\n",
      "kiwisolver                   1.4.4\n",
      "libclang                     16.0.0\n",
      "Markdown                     3.4.3\n",
      "MarkupSafe                   2.1.3\n",
      "matplotlib                   3.7.1\n",
      "matplotlib-inline            0.1.6\n",
      "mistune                      2.0.5\n",
      "ml-dtypes                    0.2.0\n",
      "msgpack                      1.0.5\n",
      "mypy                         1.3.0\n",
      "mypy-extensions              1.0.0\n",
      "nbclassic                    1.0.0\n",
      "nbclient                     0.8.0\n",
      "nbconvert                    7.4.0\n",
      "nbformat                     5.9.0\n",
      "nest-asyncio                 1.5.6\n",
      "notebook                     6.5.4\n",
      "notebook_shim                0.2.3\n",
      "numpy                        1.23.5\n",
      "oauthlib                     3.2.2\n",
      "opencv-contrib-python        4.7.0.72\n",
      "openpyxl                     3.1.2\n",
      "opt-einsum                   3.3.0\n",
      "overrides                    7.3.1\n",
      "packaging                    23.1\n",
      "pandas                       2.0.2\n",
      "pandocfilters                1.5.0\n",
      "parso                        0.8.3\n",
      "pickleshare                  0.7.5\n",
      "Pillow                       9.5.0\n",
      "pip                          22.3.1\n",
      "platformdirs                 3.5.1\n",
      "prometheus-client            0.17.0\n",
      "prompt-toolkit               3.0.38\n",
      "proto-plus                   1.22.2\n",
      "protobuf                     4.23.2\n",
      "psutil                       5.9.5\n",
      "pure-eval                    0.2.2\n",
      "pyasn1                       0.5.0\n",
      "pyasn1-modules               0.3.0\n",
      "pycparser                    2.21\n",
      "Pygments                     2.15.1\n",
      "PyJWT                        2.7.0\n",
      "pyparsing                    3.0.9\n",
      "pyrsistent                   0.19.3\n",
      "python-dateutil              2.8.2\n",
      "python-json-logger           2.0.7\n",
      "pytz                         2023.3\n",
      "pywin32                      306\n",
      "pywinpty                     2.0.10\n",
      "PyYAML                       6.0\n",
      "pyzmq                        25.1.0\n",
      "qtconsole                    5.4.3\n",
      "QtPy                         2.3.1\n",
      "requests                     2.31.0\n",
      "requests-oauthlib            1.3.1\n",
      "rfc3339-validator            0.1.4\n",
      "rfc3986-validator            0.1.1\n",
      "rsa                          4.9\n",
      "Sastrawi                     1.0.1\n",
      "scikit-learn                 1.2.2\n",
      "scipy                        1.10.1\n",
      "Send2Trash                   1.8.2\n",
      "setuptools                   65.5.1\n",
      "six                          1.16.0\n",
      "sklearn                      0.0.post5\n",
      "sniffio                      1.3.0\n",
      "soupsieve                    2.4.1\n",
      "stack-data                   0.6.2\n",
      "tensorboard                  2.12.3\n",
      "tensorboard-data-server      0.7.0\n",
      "tensorflow                   2.12.0\n",
      "tensorflow-estimator         2.12.0\n",
      "tensorflow-intel             2.12.0\n",
      "tensorflow-io-gcs-filesystem 0.31.0\n",
      "termcolor                    2.3.0\n",
      "terminado                    0.17.1\n",
      "threadpoolctl                3.1.0\n",
      "tinycss2                     1.2.1\n",
      "tornado                      6.3.2\n",
      "traitlets                    5.9.0\n",
      "typing_extensions            4.6.3\n",
      "tzdata                       2023.3\n",
      "uri-template                 1.2.0\n",
      "uritemplate                  4.1.1\n",
      "urllib3                      1.26.16\n",
      "wcwidth                      0.2.6\n",
      "webcolors                    1.13\n",
      "webencodings                 0.5.1\n",
      "websocket-client             1.5.2\n",
      "Werkzeug                     2.3.5\n",
      "wheel                        0.38.4\n",
      "widgetsnbextension           4.0.7\n",
      "wrapt                        1.14.1\n"
     ]
    },
    {
     "name": "stderr",
     "output_type": "stream",
     "text": [
      "\n",
      "[notice] A new release of pip available: 22.3.1 -> 23.1.2\n",
      "[notice] To update, run: python.exe -m pip install --upgrade pip\n"
     ]
    }
   ],
   "source": [
    "!pip list"
   ]
  },
  {
   "cell_type": "code",
   "execution_count": 5,
   "metadata": {
    "ExecuteTime": {
     "end_time": "2023-07-03T12:43:17.508956500Z",
     "start_time": "2023-07-03T12:43:17.474421Z"
    }
   },
   "outputs": [
    {
     "ename": "ModuleNotFoundError",
     "evalue": "No module named 'cv2'",
     "output_type": "error",
     "traceback": [
      "\u001b[1;31m---------------------------------------------------------------------------\u001b[0m",
      "\u001b[1;31mModuleNotFoundError\u001b[0m                       Traceback (most recent call last)",
      "Cell \u001b[1;32mIn[5], line 5\u001b[0m\n\u001b[0;32m      2\u001b[0m \u001b[38;5;66;03m# import caer\u001b[39;00m\n\u001b[0;32m      3\u001b[0m \u001b[38;5;66;03m# import canaro\u001b[39;00m\n\u001b[0;32m      4\u001b[0m \u001b[38;5;28;01mimport\u001b[39;00m \u001b[38;5;21;01mnumpy\u001b[39;00m \u001b[38;5;28;01mas\u001b[39;00m \u001b[38;5;21;01mnp\u001b[39;00m\n\u001b[1;32m----> 5\u001b[0m \u001b[38;5;28;01mimport\u001b[39;00m \u001b[38;5;21;01mcv2\u001b[39;00m \u001b[38;5;28;01mas\u001b[39;00m \u001b[38;5;21;01mcv\u001b[39;00m\n\u001b[0;32m      6\u001b[0m \u001b[38;5;28;01mimport\u001b[39;00m \u001b[38;5;21;01mgc\u001b[39;00m\n",
      "\u001b[1;31mModuleNotFoundError\u001b[0m: No module named 'cv2'"
     ]
    }
   ],
   "source": [
    "import os\n",
    "import caer\n",
    "import canaro\n",
    "import numpy as np\n",
    "import cv2 as cv\n",
    "import gc"
   ]
  },
  {
   "cell_type": "code",
   "execution_count": null,
   "metadata": {
    "ExecuteTime": {
     "start_time": "2023-07-03T12:42:22.971249700Z"
    }
   },
   "outputs": [],
   "source": [
    "IMG_SIZE = (80,80)\n",
    "channel = 1 # Grayscale\n",
    "char_path = r\"\""
   ]
  },
  {
   "cell_type": "code",
   "execution_count": null,
   "metadata": {
    "ExecuteTime": {
     "start_time": "2023-07-03T12:42:22.972242100Z"
    }
   },
   "outputs": [],
   "source": []
  }
 ],
 "metadata": {
  "kernelspec": {
   "display_name": "Python 3 (ipykernel)",
   "language": "python",
   "name": "python3"
  },
  "language_info": {
   "codemirror_mode": {
    "name": "ipython",
    "version": 3
   },
   "file_extension": ".py",
   "mimetype": "text/x-python",
   "name": "python",
   "nbconvert_exporter": "python",
   "pygments_lexer": "ipython3",
   "version": "3.10.9"
  }
 },
 "nbformat": 4,
 "nbformat_minor": 1
}
